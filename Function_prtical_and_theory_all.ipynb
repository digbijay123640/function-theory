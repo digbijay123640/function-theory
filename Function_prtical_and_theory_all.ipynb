{
  "nbformat": 4,
  "nbformat_minor": 0,
  "metadata": {
    "colab": {
      "provenance": []
    },
    "kernelspec": {
      "name": "python3",
      "display_name": "Python 3"
    },
    "language_info": {
      "name": "python"
    }
  },
  "cells": [
    {
      "cell_type": "markdown",
      "source": [
        "1.What is the difference between a function and a method in Python?\n",
        "  ->In Python, methods and functions have similar purposes but differ in important ways. Functions are independent blocks of code that can be called from anywhere, while methods are tied to objects or classes and need an object or class instance to be invoked. Functions promote code reusability, while methods offer behavior specific to objects. Functions are called by name, while methods are accessed using dot notation. Understanding these distinctions is crucial for writing organized, modular code in Python and harnessing the full power of methods and functions in various programming scenarios.\n",
        "2.Explain the concept of function arguments and parameters in Python?\n",
        "  ->Parameters are variables defined in a function declaration. This act as placeholders for the values (arguments) that will be passed to the function.\n",
        "\n",
        "Here x,y are the parameters\n",
        "def sum(x,y):\n",
        "   print(x+y)\n",
        "    sum(1,2)\n",
        "Arguments are the actual values that you pass to the function when you call it. These values replace the parameters defined in the function.\n",
        "3.What are the different ways to define and call a function in Python?\n",
        " ->In Python, the def keyword is used to define a function, which is a block of reusable code that performs a specific task. It allows you to organize code into manageable and logical units, making it more readable, maintainable, and reusable.while A function call is an expression containing the function name followed by the function call operator, () . If the function has been defined to receive parameters, the values that are to be sent into the function are listed inside the parentheses of the function call operator.\n",
        "4.What is the purpose of the `return` statement in a Python function?\n",
        "  ->The Python return statement marks the end of a function and specifies the value or values to pass back from the function. Return statements can return data of any type, including integers, floats, strings, lists, dictionaries, and even other functions. If no return statement is used, or if a return statement is used without a value, the function will implicitly return None.\n",
        "5.What are iterators in Python and how do they differ from iterables?\n",
        "  ->In Python, an iterator is an object that allows we to iterate over collections of data, such as lists, tuples, dictionaries, and sets. Python iterators implement the iterator design pattern, which allows we to traverse a container and access its elements. The iterator pattern decouples the iteration algorithms from container data structures.\n",
        "\n",
        "Iterable is an object, that one can iterate over. It generates an Iterator when passed to iter() method. An iterator is an object, which is used to iterate over an iterable object using the next() method. Iterators have the next() method, which returns the next item of the object.\n",
        "6.. Explain the concept of generators in Python and how they are defined.\n",
        "  ->A Python generator function allows you to declare a function that behaves like an iterator, providing a faster and easier way to create iterators. They can be used on an abstract container of data to turn it into an iterable object like lists, dictionaries and strings.\n",
        "\n",
        "While custom iterators are a useful tool, their creation requires careful programming due to the need to explicitly maintain their internal state. Generator functions provide a powerful alternative: they allow you to define an iterative algorithm by writing a single function whose execution is not continuous. Generator functions are written using the function* syntax.\n",
        "\n",
        "When called, generator functions do not initially execute their code. Instead, they return a special type of iterator, called a Generator. When a value is consumed by calling the generator's next method, the Generator function executes until it encounters the yield keyword.\n",
        "\n",
        "The function can be called as many times as desired, and returns a new Generator each time. Each Generator may only be iterated once.\n",
        "7.What are the advantages of using generators over regular functions?\n",
        "  ->The primary advantage of using generators over regular functions is their ability to perform \"lazy evaluation,\" meaning they generate values only when needed, which significantly improves memory efficiency by avoiding the need to store large sequences of data in memory all at once; this is particularly useful when dealing with large datasets or infinite sequences\n",
        "8.What is a lambda function in Python and when is it typically used?\n",
        "  ->Lambda functions are similar to user-defined functions but without a name. They're commonly referred to as anonymous functions.\n",
        "\n",
        "Lambda functions are efficient whenever we want to create a function that will only contain simple expressions – that is, expressions that are usually a single line of a statement. They're also useful when we want to use the function once.\n",
        "\n",
        "Short-term tasks: Use lambda functions to simplify short-term tasks, such as simple mathematical calculations or basic data transformations Higher-order functions: Use lambda functions as arguments to higher-order functions like map, filter, or reduce\n",
        "9. Explain the purpose and usage of the `map()` function in Python.\n",
        " ->map() is useful when we need to apply a transformation function to each item in an iterable and transform them into a new iterable. map() is one of the tools that support a functional programming style in Python.\n",
        "\n",
        "Map in Python is a function that works as an iterator to return a result after applying a function to every item of an iterable (tuple, lists, etc.). It is used when you want to apply a single transformation function to all the iterable elements\n",
        "10.What is the difference between `map()`, `reduce()`, and `filter()` functions in Python?\n",
        "  ->map(): Applies a given function to each item in an iterable and returns an iterator that yields the results.\n",
        "\n",
        " numbers = [1, 2, 3, 4]\n",
        " squared_numbers = map(lambda x: x**2, numbers)\n",
        " print(list(squared_numbers))  # Output: [1, 4, 9, 16]\n",
        " filter(): Creates an iterator from elements of an iterable for which a function returns true. In other words, it filters elements based on a condition.\n",
        "\n",
        "    numbers = [1, 2, 3, 4, 5, 6]\n",
        " even_numbers = filter(lambda x: x % 2 == 0, numbers)\n",
        " print(list(even_numbers))  # Output: [2, 4, 6]\n",
        " reduce(): Applies a function cumulatively to the items of an iterable, from left to right, to reduce the iterable to a single value. It is available in the functools module.\n",
        "\n",
        "    from functools import reduce\n",
        " numbers = [1, 2, 3, 4]\n",
        " product = reduce(lambda x, y: x * y, numbers)\n",
        " print(product)  # Output: 24\n",
        "11.Using pen & Paper write the internal mechanism for sum operation using  reduce function on this given\n",
        "list:[47,11,42,13];\n",
        " ->\n",
        " from functools import reduce\n",
        "\n",
        "numbers = [47, 11, 42, 13]\n",
        "\n",
        "result = reduce(lambda x, y: x + y, numbers)\n",
        "\n",
        "print(result)"
      ],
      "metadata": {
        "id": "A07MO0utDbXw"
      }
    },
    {
      "cell_type": "code",
      "source": [
        "from functools import reduce\n",
        "\n",
        "numbers = [47, 11, 42, 13]\n",
        "\n",
        "result = reduce(lambda x, y: x + y, numbers)\n",
        "\n",
        "print(result)"
      ],
      "metadata": {
        "colab": {
          "base_uri": "https://localhost:8080/"
        },
        "id": "S_XKsVY9FS2k",
        "outputId": "5dca2989-46a8-41a6-dffb-88fa219921fa"
      },
      "execution_count": 2,
      "outputs": [
        {
          "output_type": "stream",
          "name": "stdout",
          "text": [
            "113\n"
          ]
        }
      ]
    },
    {
      "cell_type": "markdown",
      "source": [
        "Pratical Question And **Answer**"
      ],
      "metadata": {
        "id": "8X7ZYjPyHVQP"
      }
    },
    {
      "cell_type": "markdown",
      "source": [
        "1.Write a Python function that takes a list of numbers as input and returns the sum of all even numbers in\n",
        "the list."
      ],
      "metadata": {
        "id": "UvD_waOUInUh"
      }
    },
    {
      "cell_type": "code",
      "source": [
        "def sum_of_evens(numbers):\n",
        "    return sum(num for num in numbers if num % 2 == 0)\n",
        "\n",
        "numbers = [47, 11, 42, 13, 8, 20]\n",
        "result = sum_of_evens(numbers)\n",
        "print(\"Sum of even numbers:\", result)"
      ],
      "metadata": {
        "colab": {
          "base_uri": "https://localhost:8080/"
        },
        "id": "eKkwAxouIv4H",
        "outputId": "a692c116-53d7-45a5-ac58-70472cbf5016"
      },
      "execution_count": 3,
      "outputs": [
        {
          "output_type": "stream",
          "name": "stdout",
          "text": [
            "Sum of even numbers: 70\n"
          ]
        }
      ]
    },
    {
      "cell_type": "markdown",
      "source": [
        "2.Create a Python function that accepts a string and returns the reverse of that string."
      ],
      "metadata": {
        "id": "ps4Dl4WmI-04"
      }
    },
    {
      "cell_type": "code",
      "source": [
        "def reverse_string(s):\n",
        "    return s[::-1]\n",
        "\n",
        "text = \"Digbijaya Singh\"\n",
        "result = reverse_string(text)\n",
        "print(\"Reversed string:\", result)\n"
      ],
      "metadata": {
        "colab": {
          "base_uri": "https://localhost:8080/"
        },
        "id": "_3RI8vfQJDw6",
        "outputId": "fd82d13c-493e-46d4-c1a2-5b5aac51bac2"
      },
      "execution_count": 5,
      "outputs": [
        {
          "output_type": "stream",
          "name": "stdout",
          "text": [
            "Reversed string: hgniS ayajibgiD\n"
          ]
        }
      ]
    },
    {
      "cell_type": "markdown",
      "source": [
        "3. Implement a Python function that takes a list of integers and returns a new list containing the squares of\n",
        "each number."
      ],
      "metadata": {
        "id": "ODmZ3EgKJNm3"
      }
    },
    {
      "cell_type": "code",
      "source": [
        "def square_numbers(numbers):\n",
        "    return [num ** 2 for num in numbers]\n",
        "\n",
        "numbers = [1, 2, 3, 4, 5]\n",
        "result = square_numbers(numbers)\n",
        "print(\"Squared numbers:\", result)\n"
      ],
      "metadata": {
        "colab": {
          "base_uri": "https://localhost:8080/"
        },
        "id": "hbhuyypAJUTi",
        "outputId": "afadc018-a30e-4100-92c2-ddf44b7f7cc8"
      },
      "execution_count": 7,
      "outputs": [
        {
          "output_type": "stream",
          "name": "stdout",
          "text": [
            "Squared numbers: [1, 4, 9, 16, 25]\n"
          ]
        }
      ]
    },
    {
      "cell_type": "markdown",
      "source": [
        "4. Write a Python function that checks if a given number is prime or not from 1 to 200?"
      ],
      "metadata": {
        "id": "pLaJrnZCZbYU"
      }
    },
    {
      "cell_type": "code",
      "source": [
        "def is_prime(n):\n",
        "    if n < 2:\n",
        "        return False\n",
        "    for i in range(2, int(n ** 0.5) + 1):\n",
        "        if n % i == 0:\n",
        "            return False\n",
        "    return True\n",
        "\n",
        "prime_numbers = [num for num in range(1, 201) if is_prime(num)]\n",
        "print(\"Prime numbers from 1 to 200:\", prime_numbers)"
      ],
      "metadata": {
        "colab": {
          "base_uri": "https://localhost:8080/"
        },
        "id": "pmDmKYRhZhis",
        "outputId": "ea82e759-f760-441c-f322-6d141d69ec15"
      },
      "execution_count": 8,
      "outputs": [
        {
          "output_type": "stream",
          "name": "stdout",
          "text": [
            "Prime numbers from 1 to 200: [2, 3, 5, 7, 11, 13, 17, 19, 23, 29, 31, 37, 41, 43, 47, 53, 59, 61, 67, 71, 73, 79, 83, 89, 97, 101, 103, 107, 109, 113, 127, 131, 137, 139, 149, 151, 157, 163, 167, 173, 179, 181, 191, 193, 197, 199]\n"
          ]
        }
      ]
    },
    {
      "cell_type": "markdown",
      "source": [
        "5.Create an iterator class in Python that generates the Fibonacci sequence up to a specified number of\n",
        "terms?"
      ],
      "metadata": {
        "id": "p9CKvxwIZrC2"
      }
    },
    {
      "cell_type": "code",
      "source": [
        "class FibonacciIterator:\n",
        "    def __init__(self, n):\n",
        "        self.n = n\n",
        "        self.a, self.b = 0, 1\n",
        "        self.count = 0\n",
        "\n",
        "    def __iter__(self):\n",
        "        return self\n",
        "\n",
        "    def __next__(self):\n",
        "        if self.count >= self.n:\n",
        "            raise StopIteration\n",
        "        fib_number = self.a\n",
        "        self.a, self.b = self.b, self.a + self.b\n",
        "        self.count += 1\n",
        "        return fib_number\n",
        "\n",
        "\n",
        "n_terms = 10\n",
        "fib_iterator = FibonacciIterator(n_terms)\n",
        "\n",
        "\n",
        "print(\"Fibonacci sequence up to\", n_terms, \"terms:\")\n",
        "for num in fib_iterator:\n",
        "    print(num, end=\" \")\n"
      ],
      "metadata": {
        "colab": {
          "base_uri": "https://localhost:8080/"
        },
        "id": "Wn8SNBCKZxjT",
        "outputId": "e0bb979d-e125-42cd-b868-349786f5d435"
      },
      "execution_count": 9,
      "outputs": [
        {
          "output_type": "stream",
          "name": "stdout",
          "text": [
            "Fibonacci sequence up to 10 terms:\n",
            "0 1 1 2 3 5 8 13 21 34 "
          ]
        }
      ]
    },
    {
      "cell_type": "markdown",
      "source": [
        "6. Write a generator function in Python that yields the powers of 2 up to a given exponent."
      ],
      "metadata": {
        "id": "YA3bdFATZ5cl"
      }
    },
    {
      "cell_type": "code",
      "source": [
        "def powers_of_two(exponent):\n",
        "    for i in range(exponent + 1):\n",
        "        yield 2 ** i\n",
        "\n",
        "exp = 5\n",
        "print(f\"Powers of 2 up to 2^{exp}:\")\n",
        "for num in powers_of_two(exp):\n",
        "    print(num, end=\" \")"
      ],
      "metadata": {
        "colab": {
          "base_uri": "https://localhost:8080/"
        },
        "id": "gphe3wnYZ-dt",
        "outputId": "16fbc30b-d369-4b73-c5bd-9b2fc5c78f67"
      },
      "execution_count": 10,
      "outputs": [
        {
          "output_type": "stream",
          "name": "stdout",
          "text": [
            "Powers of 2 up to 2^5:\n",
            "1 2 4 8 16 32 "
          ]
        }
      ]
    },
    {
      "cell_type": "markdown",
      "source": [
        "7. Implement a generator function that reads a file line by line and yields each line as a string?"
      ],
      "metadata": {
        "id": "jOX0crrJaDrj"
      }
    },
    {
      "cell_type": "code",
      "source": [
        "def read_file_lines(filepath):\n",
        "\n",
        "    try:\n",
        "        with open(filepath, 'r') as file:\n",
        "            for line in file:\n",
        "                yield line.rstrip('\\n')\n",
        "    except FileNotFoundError:\n",
        "        yield f\"File not found: {filepath}\"\n",
        "    except Exception as e:\n",
        "        yield f\"An error occurred: {e}\"\n",
        "\n",
        "\n",
        "with open(\"my_file.txt\", \"w\") as f:\n",
        "    f.write(\"This is line 1.\\n\")\n",
        "    f.write(\"This is line 2.\\n\")\n",
        "    f.write(\"This is line 3.\")\n",
        "\n",
        "for line in read_file_lines(\"my_file.txt\"):\n",
        "    print(line)\n",
        "\n",
        "for line in read_file_lines(\"non_existent_file.txt\"):\n",
        "    print(line)\n",
        ""
      ],
      "metadata": {
        "colab": {
          "base_uri": "https://localhost:8080/"
        },
        "id": "v5d0Jb4FaI2h",
        "outputId": "04ec8d20-415c-41fe-f7a8-3b0ba16df3ca"
      },
      "execution_count": 11,
      "outputs": [
        {
          "output_type": "stream",
          "name": "stdout",
          "text": [
            "This is line 1.\n",
            "This is line 2.\n",
            "This is line 3.\n",
            "File not found: non_existent_file.txt\n"
          ]
        }
      ]
    },
    {
      "cell_type": "markdown",
      "source": [
        "8.Use a lambda function in Python to sort a list of tuples based on the second element of each tuple?\n"
      ],
      "metadata": {
        "id": "Ag_lD_1naQTn"
      }
    },
    {
      "cell_type": "code",
      "source": [
        "data = [(2, 3), (5, 1), (6, 5), (3, 2)]\n",
        "\n",
        "sorted_data = sorted(data, key=lambda x: x[1])\n",
        "\n",
        "print(sorted_data)"
      ],
      "metadata": {
        "colab": {
          "base_uri": "https://localhost:8080/"
        },
        "id": "yBi95umLaW9W",
        "outputId": "bc77e643-4c2d-4f7b-a6e6-dc4ada6da713"
      },
      "execution_count": 12,
      "outputs": [
        {
          "output_type": "stream",
          "name": "stdout",
          "text": [
            "[(5, 1), (3, 2), (2, 3), (6, 5)]\n"
          ]
        }
      ]
    },
    {
      "cell_type": "markdown",
      "source": [
        "9. Write a Python program that uses `map()` to convert a list of temperatures from Celsius to Fahrenheit."
      ],
      "metadata": {
        "id": "UEDvScOPaiiD"
      }
    },
    {
      "cell_type": "code",
      "source": [
        "celsius_temperatures = [0, 2, 4, 6, 8, 10]\n",
        "\n",
        "fahrenheit_temperatures = list(map(lambda c: (c * 9/5) + 32, celsius_temperatures))\n",
        "\n",
        "\n",
        "\n",
        "print(fahrenheit_temperatures)\n"
      ],
      "metadata": {
        "colab": {
          "base_uri": "https://localhost:8080/"
        },
        "id": "dedPJBpUapcf",
        "outputId": "deedf020-23d4-41c2-a39f-39c88da90a49"
      },
      "execution_count": 13,
      "outputs": [
        {
          "output_type": "stream",
          "name": "stdout",
          "text": [
            "[32.0, 35.6, 39.2, 42.8, 46.4, 50.0]\n"
          ]
        }
      ]
    },
    {
      "cell_type": "markdown",
      "source": [
        "10.Create a Python program that uses `filter()` to remove all the vowels from a given string?"
      ],
      "metadata": {
        "id": "IXsKY-pgauZv"
      }
    },
    {
      "cell_type": "code",
      "source": [
        "def remove_vowels(string):\n",
        "    vowels = \"aeiouAEIOU\"\n",
        "    return \"\".join(filter(lambda char: char not in vowels, string))\n",
        "\n",
        "input_string = \"Digbijaya Singh\"\n",
        "output_string = remove_vowels(input_string)\n",
        "\n",
        "print(output_string)"
      ],
      "metadata": {
        "colab": {
          "base_uri": "https://localhost:8080/"
        },
        "id": "r1b0OGlpazlj",
        "outputId": "70077243-b9a2-4685-d44b-b402695cca3a"
      },
      "execution_count": 15,
      "outputs": [
        {
          "output_type": "stream",
          "name": "stdout",
          "text": [
            "Dgbjy Sngh\n"
          ]
        }
      ]
    },
    {
      "cell_type": "markdown",
      "source": [
        "11. Imagine an accounting routine used in a book shop. It works on a list with sublists, which look like this?"
      ],
      "metadata": {
        "id": "7qoXx8rJa-nf"
      }
    },
    {
      "cell_type": "code",
      "source": [
        "orders = [\n",
        "    (34587, \"Learning Python, Mark Lutz\", 4, 40.95),\n",
        "    (98762, \"Programming Python, Mark Lutz\", 5, 56.80),\n",
        "    (77226, \"Head First Python, Paul Barry\", 3, 32.95),\n",
        "    (88112, \"Einführung in Python3, Bernd Klein\", 3, 24.99)\n",
        "]\n",
        "\n",
        "processed_orders = list(map(\n",
        "    lambda order: (order[0], order[2] * order[3] + (10 if order[2] * order[3] < 100 else 0)),\n",
        "    orders\n",
        "))\n",
        "\n",
        "print(processed_orders)"
      ],
      "metadata": {
        "colab": {
          "base_uri": "https://localhost:8080/"
        },
        "id": "klLMmoRgbEvp",
        "outputId": "9ac823b9-e56d-4ae5-a0b3-0d1072003e26"
      },
      "execution_count": 16,
      "outputs": [
        {
          "output_type": "stream",
          "name": "stdout",
          "text": [
            "[(34587, 163.8), (98762, 284.0), (77226, 108.85000000000001), (88112, 84.97)]\n"
          ]
        }
      ]
    },
    {
      "cell_type": "code",
      "source": [],
      "metadata": {
        "id": "Lkb2oUkPbN39"
      },
      "execution_count": null,
      "outputs": []
    }
  ]
}